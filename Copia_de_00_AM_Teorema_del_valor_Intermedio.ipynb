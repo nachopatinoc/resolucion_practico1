{
  "cells": [
    {
      "cell_type": "markdown",
      "metadata": {
        "id": "view-in-github",
        "colab_type": "text"
      },
      "source": [
        "<a href=\"https://colab.research.google.com/github/nachopatinoc/resolucion_practico1/blob/main/Copia_de_00_AM_Teorema_del_valor_Intermedio.ipynb\" target=\"_parent\"><img src=\"https://colab.research.google.com/assets/colab-badge.svg\" alt=\"Open In Colab\"/></a>"
      ]
    },
    {
      "cell_type": "markdown",
      "metadata": {
        "id": "uLhHeVbBbMQo"
      },
      "source": [
        "# **ALGUNOS TIPS PARA EL USO DE COLLAB**"
      ]
    },
    {
      "cell_type": "markdown",
      "metadata": {
        "id": "OMjBlNt-bdfh"
      },
      "source": [
        "* **IMPORTANTE!** En la barra de herramientas existe una opcion de **COPIAR EN DRIVE** hacer click y se les abrira una copia de este archivo que si se guardaran las modificaciones en su drive. Luego en su Google Drive van a encontrar una carpeta que dice **Colab Notebooks** con su copia de este archivo.\n",
        "* En este documento encontraran dos tipos de celdas (i) Solo con texto y (ii) Solo con Codigo.\n",
        "* Las celdas con codigo se deben ejecutar todas en orden se puede hacer desde el boton play que sale en el margen superior izquierdo de cada celda o haciendo CTRL + ENTER.\n",
        "* OJO! Si no se ejecuta el codigo de la celda el programa no va a reconocer lo que se ha declarado en la misma.\n",
        "* En el menu superior encontraran la opcion **Entorno de Ejecucion** dentro de ese menu tienen todas las utilidades relacionadas a la ejecución del codigo en las celdas. Las mas utilizadas son:\n",
        "  * **Entorno de Ejecucion/Reiniciar Entorno de Ejecucion**: esta opcion limpiara la salida de todas las celdas\n",
        "  * **Entorno de Ejecucion/Ejecutar todo** : si han limpiado todas las salidas por algun error de esta forma se ejecuta todas las celdas en orden de una vez.\n",
        "\n",
        "* Si ya manejan el uso de python y prefieren hacerlo en un script pueden copiar el contenido de cada celda de codigo en un archivo.py y ejecutar todo el codigo de una vez.\n",
        "\n",
        "  Enjoy!"
      ]
    },
    {
      "cell_type": "markdown",
      "metadata": {
        "id": "o2F22g8TPSak"
      },
      "source": [
        "# **TEOREMA DEL VALOR INTERMEDIO**: METODO BISECCIÓN\n",
        "\n"
      ]
    },
    {
      "cell_type": "markdown",
      "metadata": {
        "id": "NLfGhbjNTrIr"
      },
      "source": [
        "## TEORÍA"
      ]
    },
    {
      "cell_type": "markdown",
      "metadata": {
        "id": "RoFkYT_yTulT"
      },
      "source": [
        "Como una consecuencia directa del teorema del valor intermedio, es\n",
        "posible concebir un medio para aproximar los ceros de una función continua hasta cualquier grado de precisión. Suponga que $y = f(x)$ es continua sobre el intervalo cerrado $[a, b]$ tal que\n",
        "$f(a)$ y $f(b)$ tienen signos algebraicos opuestos. Luego, como acabamos de ver, f tiene un cero en $[a, b]$. Suponga que el intervalo $[a, b]$ se biseca encontrando el punto medio $c_0 = (a + b)/2$. Si $f(c_0) = 0$, entonces $c_0$ es un cero de $f$ y ya no se continúa, pero si $f (c_0) \\neq 0$, entonces puede afirmarse lo siguiente:\n",
        "* Si $f(a)$ y $f (c_0)$ tienen signos algebraicos opuestos, entonces $f$ tiene un cero $c$ en $[a, c_0]$.\n",
        "* Si $f (c_0)$ y $f(b)$ tienen signos algebraicos opuestos, entonces $f$ tiene un cero $c$ en $[c_0, b]$\n",
        "\n",
        "Es decir, si $f (c_0) \\neq 0$, entonces $f$ tiene un cero en un intervalo que mide la mitad del intervalo original. A continuación se repite el proceso al bisecar este nuevo intervalo al encontrar su punto medio $c_1$. Si $c_1$ es un cero de $f$, entonces detenemos el proceso,pero si $f (c_1) \\neq 0$, hemos localizado un cero en un intervalo que mide la cuarta parte del intervalo $[a, b]$.\n",
        "\n",
        "Continuamos este proceso de localizar un cero en $f$ de manera indefinida en intervalos cada vez más cortos. Este método de aproximar un cero de una función continua por medio de una sucesión de puntos medios se denomina método de bisección."
      ]
    },
    {
      "cell_type": "markdown",
      "metadata": {
        "id": "2QmNLwEHTgwk"
      },
      "source": [
        "## PRACTICA CON PYTHON"
      ]
    },
    {
      "cell_type": "markdown",
      "metadata": {
        "id": "xs8mIExnPQQ5"
      },
      "source": [
        "\n",
        "EJEMPLO: Ejercicio 6 del Libro *Matematica 1 - ZIll* (pag 106)\n",
        "\n",
        "1.   Demuestre que los ceros de la función polinomial $f(x) = x^6 - 3x -1$ tiene un cero real en $[-1,0]$ y en $[1, 2]$\n",
        "2.   Aproxime el cero en $[1, 2]$ hasta dos cifras decimales.\n",
        "\n",
        "\n"
      ]
    },
    {
      "cell_type": "code",
      "execution_count": null,
      "metadata": {
        "id": "wERnrpGJQJX_"
      },
      "outputs": [],
      "source": [
        "import numpy as np\n",
        "\n",
        "#Creamos una funcion para escribir la funcion con la que vamos a trabajar\n",
        "\n",
        "def funcion(x):\n",
        "  return x**6 - 3*x - 1\n"
      ]
    },
    {
      "cell_type": "markdown",
      "metadata": {
        "id": "wRESiucGV5c_"
      },
      "source": [
        "Establecemos el intervalo en el cual vamos analizar la función es decir [a,b]"
      ]
    },
    {
      "cell_type": "code",
      "execution_count": null,
      "metadata": {
        "id": "yxgogymqVHKm"
      },
      "outputs": [],
      "source": [
        "#Intervalo:\n",
        "inicio = -1\n",
        "fin = 0"
      ]
    },
    {
      "cell_type": "code",
      "execution_count": null,
      "metadata": {
        "id": "SsPFbWoxWqAi"
      },
      "outputs": [],
      "source": [
        "#Si tenemos más de un intervalo podemos agregar variables de la siguiente manera para mantener nuestro código ordenado y fácil de leer\n",
        "\n",
        "int_uno_inicio = -1\n",
        "int_uno_fin = 0\n",
        "\n",
        "int_dos_inicio = 1\n",
        "int_dos_fin = 2"
      ]
    },
    {
      "cell_type": "markdown",
      "metadata": {
        "id": "wkpGP_obWtJR"
      },
      "source": [
        "Lo primero que debemos hacer es analizar los signos en el intervalo para analizar si la función cambia de signo dentro del mismo o no"
      ]
    },
    {
      "cell_type": "code",
      "execution_count": null,
      "metadata": {
        "colab": {
          "base_uri": "https://localhost:8080/"
        },
        "id": "vlLMNYakXTQ_",
        "outputId": "5e37fcdf-658c-47cf-8e70-f07cdc6d14a1"
      },
      "outputs": [
        {
          "name": "stdout",
          "output_type": "stream",
          "text": [
            "El valor de f(-1) es 3\n",
            "El valor de f(0) es -1\n",
            "La función SI cambia de signo en el intervalo [-1,0]\n"
          ]
        }
      ],
      "source": [
        "f_inicio = funcion (int_uno_inicio )\n",
        "f_fin = funcion ( int_uno_fin )\n",
        "\n",
        "print (f'El valor de f({int_uno_inicio}) es {f_inicio}')\n",
        "print (f'El valor de f({int_uno_fin}) es {f_fin}')\n",
        "\n",
        "#Una forma de chequear automaticamente si la funcion cambia de signo es (regla de los signos):\n",
        "\n",
        "if f_inicio * f_fin < 0:\n",
        "  print (f'La función SI cambia de signo en el intervalo [{int_uno_inicio},{int_uno_fin}]')"
      ]
    },
    {
      "cell_type": "markdown",
      "metadata": {
        "id": "1i1WCVUaX20i"
      },
      "source": [
        "Observamos que si hay cambio de signo en la función, lo que indica que en el intervalo dado hay al menos un cero. Realizamos el mismo procedimiento para el segundo intervalo dado"
      ]
    },
    {
      "cell_type": "code",
      "execution_count": null,
      "metadata": {
        "colab": {
          "base_uri": "https://localhost:8080/"
        },
        "id": "S4Hhqw_ObGvZ",
        "outputId": "84dc4c99-a5a8-4175-b27e-72da5545d2c8"
      },
      "outputs": [
        {
          "name": "stdout",
          "output_type": "stream",
          "text": [
            "El valor de f(1) es -3\n",
            "El valor de f(2) es 57\n",
            "La función SI cambia de signo en el intervalo [1,2]\n"
          ]
        }
      ],
      "source": [
        "f_inicio = funcion (int_dos_inicio )\n",
        "f_fin = funcion (int_dos_fin )\n",
        "\n",
        "print (f'El valor de f({int_dos_inicio}) es {f_inicio}')\n",
        "print (f'El valor de f({int_dos_fin}) es {f_fin}')\n",
        "\n",
        "#Una forma de chequear automaticamente si la funcion cambia de signo es (regla de los signos):\n",
        "\n",
        "if f_inicio * f_fin < 0:\n",
        "  print (f'La función SI cambia de signo en el intervalo [{int_dos_inicio},{int_dos_fin}]')"
      ]
    },
    {
      "cell_type": "markdown",
      "metadata": {
        "id": "Wgl4_qkGbRg5"
      },
      "source": [
        "###Aproximación de ceros"
      ]
    },
    {
      "cell_type": "markdown",
      "metadata": {
        "id": "2dTRaPHRbjsD"
      },
      "source": [
        "El ejercicio pide aproximar los ceros hasta dos cifras significativas en el intervalo $[1, 2]$\n",
        "Primero debemos buscar el punto medio del intervalo"
      ]
    },
    {
      "cell_type": "code",
      "execution_count": null,
      "metadata": {
        "colab": {
          "base_uri": "https://localhost:8080/"
        },
        "id": "pWazpGQmbdAx",
        "outputId": "6b4106f7-189a-4029-b87c-345b0b52db6c"
      },
      "outputs": [
        {
          "name": "stdout",
          "output_type": "stream",
          "text": [
            "El punto medio del intervalo es 1.5\n"
          ]
        }
      ],
      "source": [
        "punto_medio  = (int_dos_inicio+int_dos_fin) /2\n",
        "print (f'El punto medio del intervalo es {punto_medio}')"
      ]
    },
    {
      "cell_type": "code",
      "execution_count": null,
      "metadata": {
        "colab": {
          "base_uri": "https://localhost:8080/"
        },
        "id": "DtFgZ0S2cTfa",
        "outputId": "03d84cc6-78e7-48eb-cf01-e403446d4fd5"
      },
      "outputs": [
        {
          "name": "stdout",
          "output_type": "stream",
          "text": [
            "El error es de 0.5\n"
          ]
        }
      ],
      "source": [
        "#Calculo del Error (el error es menor a la mitad de la longitud del intervalo -\n",
        "#ver Zill pág. 106 )\n",
        "\n",
        "error = 0.5*(int_dos_fin-int_dos_inicio)\n",
        "\n",
        "print (f'El error es de {error}')"
      ]
    },
    {
      "cell_type": "markdown",
      "metadata": {
        "id": "-ZRPxdITcxA0"
      },
      "source": [
        "Con el valor del punto_medio debemos ver en qué parte del intervalo está y analizar si cambia de signos:"
      ]
    },
    {
      "cell_type": "code",
      "execution_count": null,
      "metadata": {
        "colab": {
          "base_uri": "https://localhost:8080/"
        },
        "id": "X77EE-Htc_zU",
        "outputId": "78b08132-71e5-485b-a373-3c7c086abc66"
      },
      "outputs": [
        {
          "name": "stdout",
          "output_type": "stream",
          "text": [
            "El cero esta en el intervalo [1, 1.5]\n"
          ]
        }
      ],
      "source": [
        "if funcion(punto_medio)*funcion(int_dos_inicio) < 0:\n",
        "  print (f'El cero esta en el intervalo [{int_dos_inicio}, {punto_medio}]')\n",
        "elif funcion(punto_medio)*funcion(int_dos_fin) < 0:\n",
        "  print (f'El cero esta en el intervalo [{punto_medio},{int_dos_fin}]')"
      ]
    },
    {
      "cell_type": "markdown",
      "metadata": {
        "id": "y4JjD9i1drXo"
      },
      "source": [
        "Este proceso debemos repetirlo hasta que el error este dentro del rango de tolerancia pedido. En este caso se piden 2 cifras significativas por lo tanto la tolerancia será del orden de $0.005$. Para generalizar la aproximación a cero trabajaremos con iteraciones, es decir, repetir el mismo calculo $n$ veces hasta que se acerque a los valores buscados.\n",
        "\n",
        "Recapitulando lo visto en teoria, las tres condiciones para encontrar un cero que debemos tener en cuenta son:\n",
        "\n",
        "1.   Si $f(c_0) = 0$, entonces $c$ es un cero. En el codigo podemos utilizar un condicional (IF) donde su condicion seria que $f(c_0)$ sea menor que un valor muy pequeño (pero no cero)\n",
        "2.   Si $f(a)*f(c_0) > 0$ entonces existe un cero en el intervalo $[c_0,b_0]$. Por lo que deberiamos redefinir los valores de inicio y fin del siguiente intervalo como: $a = c_0$ y $b = b_0$\n",
        "3. Si $f(a)*f(c_0) < 0$ entonces existe un cero en el intervalo $[a_0,c_0]$. Por lo que deberiamos redefinir los valores de inicio y fin del siguiente intervalo como: $a = a_0$ y $b = c_0$\n",
        "\n",
        "Donde $a_0$ y $b_0$ son los nuevos valores que toma la variable en cada iteración y $c_0$ tambien se puede calcular como $c_0 = a_0 + \\frac{b_0-a_0}{2}$\n",
        "\n",
        "Escribimos estas condiciones en lenguaje de python:\n"
      ]
    },
    {
      "cell_type": "code",
      "execution_count": null,
      "metadata": {
        "colab": {
          "base_uri": "https://localhost:8080/"
        },
        "id": "TLBLe-zUeDq0",
        "outputId": "cb6aac3b-d170-4666-cf41-21fa466a6aa1"
      },
      "outputs": [
        {
          "name": "stdout",
          "output_type": "stream",
          "text": [
            "Valor encontrado: 1.30078125\n",
            "Valor encontrado: 1.302734375\n",
            "Valor encontrado: 1.3037109375\n"
          ]
        }
      ],
      "source": [
        "tolerancia = 0.005 #la tolerancia minima del error que queremos lograr\n",
        "n = 10 #cantidad de iteraciones a elección del usuario\n",
        "casi_cero = 1e-15\n",
        "\n",
        "# Volvemos a traer los valores de int_dos_min y int_dos_max, en este caso los\n",
        "# renombramos para evitar errores de que se sobreescriba y de valores incorrectos\n",
        "# si corren el codigo de esta celda multiples veces\n",
        "\n",
        "int_inicio = 1 # int_dos_min\n",
        "int_fin  = 2 # int_dos_max\n",
        "\n",
        "# En este caso la variable de iteracion es _ ya que dentro del loop no la utilizamos,\n",
        "# y nuestro objetivo es que se realice la iteracion n veces\n",
        "\n",
        "for _ in range (n):\n",
        "\n",
        "  valor_medio = (int_fin - int_inicio)/2\n",
        "  valor_aprox = int_inicio + valor_medio\n",
        "\n",
        "  if abs (funcion(valor_aprox)) <= casi_cero or valor_medio < tolerancia: #Cond 1\n",
        "    print ('Valor encontrado:', valor_aprox)\n",
        "\n",
        "  if funcion(int_inicio)*funcion(valor_aprox) > 0: # Cond 2\n",
        "    int_inicio = valor_aprox\n",
        "  else: # Cond 3\n",
        "    int_fin = valor_aprox\n"
      ]
    },
    {
      "cell_type": "markdown",
      "metadata": {
        "id": "GKF1peHSY7Eg"
      },
      "source": [
        "Ahora graficamos la función\n"
      ]
    },
    {
      "cell_type": "code",
      "execution_count": null,
      "metadata": {
        "colab": {
          "base_uri": "https://localhost:8080/",
          "height": 481
        },
        "id": "J4zWvivtXQ9R",
        "outputId": "66926bc2-cbdc-44e3-9e64-e5ec03a0d246"
      },
      "outputs": [
        {
          "data": {
            "text/plain": [
              "Text(0, 0.5, 'y')"
            ]
          },
          "execution_count": 10,
          "metadata": {},
          "output_type": "execute_result"
        },
        {
          "data": {
            "image/png": "[encoded data removed]",
            "text/plain": [
              "<Figure size 640x480 with 1 Axes>"
            ]
          },
          "metadata": {},
          "output_type": "display_data"
        }
      ],
      "source": [
        "import matplotlib.pyplot as plt\n",
        "\n",
        "min = -2\n",
        "max = 2\n",
        "step = 100 #cantidad de valores entre min y max que se desee\n",
        "x = np.linspace (min,max,step)\n",
        "\n",
        "plt.plot (x,\n",
        "          funcion(x),\n",
        "          color = 'blue')\n",
        "plt.axhline(0, color=\"black\")\n",
        "plt.axvline(0, color=\"black\")\n",
        "plt.grid(True, linestyle='--', color='gray', linewidth=0.5)\n",
        "#Para ajustar los ejes de manera manual\n",
        "plt.xlim(-1,2)\n",
        "plt.ylim(-5,5)\n",
        "\n",
        "#Escribir el label de los ejes\n",
        "plt.xlabel('x', size = 20)\n",
        "plt.ylabel('y', size = 20)"
      ]
    },
    {
      "cell_type": "markdown",
      "metadata": {
        "id": "q1Ifxl0SboH0"
      },
      "source": [
        "# EJERCICIOS PARA RESOLVER\n"
      ]
    },
    {
      "cell_type": "markdown",
      "metadata": {
        "id": "n-b3GNKJsagE"
      },
      "source": [
        "Trabajando en equipo elegir alguna de las siguientes funciones y calcular sus ceros en el intervalo dado utilizando el teorema de valor intermedio:\n",
        "\n",
        "1.   $f(x) = x^2 - 2x$ en $[1,5]$\n",
        "2.   $f(x) = x^2 +x +1$ en $[-2,3]$\n",
        "3.   $f(x) = x^3 + 2x +1$ en $[-2,2]$\n",
        "4.   $f(x) = \\frac{10}{x^2+1}$ en $[0,1]$\n",
        "\n",
        "Para cada caso debera:\n",
        "1. Escribir en una archivo nuevo o en una celda de codigo a continuación el codigo para resolver la función elegida.\n",
        "2. Indicar el numero minimo de iteraciones necesarias para encontrar el valor aproximado del cero. (imprimirlo por pantalla junto a el valor aproximado obtenido)\n",
        "3. Calcular el valor del cero con 2 cifras significativas y con 3 cifras significativas.\n",
        "\n",
        "**Nota**\n",
        "\n",
        "*Para la resolución de los ejercicios puede escribir (o copiar) en una sola celda de codigo todas las lineas de codigo que considere necesarias (revisar bien) y ejecutar todo en una sola celda.*"
      ]
    },
    {
      "cell_type": "markdown",
      "metadata": {
        "id": "HZirQrVukj1U"
      },
      "source": [
        "MI TRABAJO (utilicé la función número 3 para realizar el trabajo):"
      ]
    },
    {
      "cell_type": "code",
      "execution_count": null,
      "metadata": {
        "colab": {
          "base_uri": "https://localhost:8080/",
          "height": 654
        },
        "id": "-V3h8q5ekndz",
        "outputId": "bd5d5096-724d-4fde-9209-ad83f2aa28a0"
      },
      "outputs": [
        {
          "output_type": "stream",
          "name": "stdout",
          "text": [
            "El valor de f(-2) es -11\n",
            "El valor de f(2) es 13\n",
            "La funcion SI cambia de signo en el intervalo [-2, 2]\n",
            "------------------------------------------------------------------------\n",
            "El punto medio del intervalo es 0.0\n",
            "El error es de 2.0\n",
            "------------------------------------------------------------------------\n",
            "Cantidad de iteraciones: 10: Valor encontrado con 2 cifras significativas: -0.46\n",
            "Cantidad de iteraciones 13: Valor encontrado con 3 cifras significativas: -0.454\n",
            "------------------------------------------------------------------------\n"
          ]
        },
        {
          "output_type": "execute_result",
          "data": {
            "text/plain": [
              "Text(0, 0.5, 'y')"
            ]
          },
          "metadata": {},
          "execution_count": 5
        },
        {
          "output_type": "display_data",
          "data": {
            "text/plain": [
              "<Figure size 640x480 with 1 Axes>"
            ],
            "image/png": "[encoded data removed]"
          },
          "metadata": {}
        }
      ],
      "source": [
        "import numpy as np\n",
        "import matplotlib.pyplot as plt\n",
        "\n",
        "# Definimos la funcion:\n",
        "def funcion(x):\n",
        "    return x**3 + 2*x + 1\n",
        "\n",
        "# Intervalo [-2, 2]:\n",
        "inicio = -2\n",
        "fin = 2\n",
        "\n",
        "# Analizamos los signos:\n",
        "print(f\"El valor de f({inicio}) es {funcion(inicio)}\")\n",
        "print(f\"El valor de f({fin}) es {funcion(fin)}\")\n",
        "\n",
        "if funcion(inicio) * funcion(fin) < 0:\n",
        "    print(f\"La funcion SI cambia de signo en el intervalo [{inicio}, {fin}]\")\n",
        "print(\"-\" * 72)\n",
        "\n",
        "# Aproximamos ceros:\n",
        "pm = (inicio + fin) / 2\n",
        "print(f\"El punto medio del intervalo es {pm}\")\n",
        "\n",
        "# Calculamos el error:\n",
        "error = 0.5 * (fin - inicio)\n",
        "print(f\"El error es de {error}\")\n",
        "print(\"-\" * 72)\n",
        "\n",
        "# Realizamos iteraciones para dos cifras significativas:\n",
        "tolerancia_2_cifras = 0.005\n",
        "n = 100\n",
        "casi_cero = 1e-15\n",
        "\n",
        "inicio = -2\n",
        "fin = 2\n",
        "\n",
        "for i in range(n):\n",
        "    valor_medio = (fin - inicio) / 2\n",
        "    valor_aprox = inicio + valor_medio\n",
        "\n",
        "    if abs(funcion(valor_aprox)) < casi_cero or valor_medio < tolerancia_2_cifras:\n",
        "        print(f'Cantidad de iteraciones: {i+1}: Valor encontrado con 2 cifras significativas:', round(valor_aprox, 2))\n",
        "        break\n",
        "    if funcion(inicio) * funcion(valor_aprox) > 0:\n",
        "        inicio = valor_aprox\n",
        "    else:\n",
        "        fin = valor_aprox\n",
        "\n",
        "# Realizamos iteraciones para tres cifras significativas:\n",
        "tolerancia_3_cifras = 0.0005\n",
        "n = 100\n",
        "\n",
        "inicio = -2\n",
        "fin = 2\n",
        "\n",
        "for i in range(n):\n",
        "    valor_medio = (fin - inicio) / 2\n",
        "    valor_aprox = inicio + valor_medio\n",
        "\n",
        "    if abs(funcion(valor_aprox)) < casi_cero or valor_medio < tolerancia_3_cifras:\n",
        "        print(f'Cantidad de iteraciones {i+1}: Valor encontrado con 3 cifras significativas:', round(valor_aprox, 3))\n",
        "        break\n",
        "    if funcion(inicio) * funcion(valor_aprox) > 0:\n",
        "        inicio = valor_aprox\n",
        "    else:\n",
        "        fin = valor_aprox\n",
        "print(\"-\" * 72)\n",
        "\n",
        "# Graficamos la función:\n",
        "min = -3\n",
        "max = 4\n",
        "step = 100\n",
        "x = np.linspace (min,max,step)\n",
        "\n",
        "plt.plot (x,\n",
        "        funcion(x),\n",
        "        color = 'blue')\n",
        "plt.axhline(0, color=\"black\")\n",
        "plt.axvline(0, color=\"black\")\n",
        "plt.grid(True, linestyle='--', color='gray', linewidth=0.5)\n",
        "\n",
        "plt.xlim(-3,4)\n",
        "plt.ylim(-5,5)\n",
        "\n",
        "plt.xlabel('x', size = 20)\n",
        "plt.ylabel('y', size = 20)"
      ]
    },
    {
      "cell_type": "markdown",
      "metadata": {
        "id": "2UD-Hqqvtcja"
      },
      "source": [
        "#Opcional\n",
        "Como desafio intente en su codigo definir una funcion para el metodo de bisección algo como:\n",
        "\n",
        "```\n",
        "def metodo_biseccion (parametro_1, parametro_2,...):\n",
        "  return valor_aprox\n",
        "```\n",
        "Debera analizar cuales son los parametros que necesita la función para generalizarla. Puede usar como ayuda la funcion ya definida.\n",
        "\n",
        "\n"
      ]
    },
    {
      "cell_type": "markdown",
      "metadata": {
        "id": "6wXaN8ECT_cU"
      },
      "source": [
        "# REFERENCIAS"
      ]
    },
    {
      "cell_type": "markdown",
      "metadata": {
        "id": "y8DgnwsHUCRX"
      },
      "source": [
        "Warren S. Wright Dennis G. Zill. Matemáticas 1: Cálculo Diferencial. Mc Graw Hill Educacion, 4ta edition, 2011."
      ]
    }
  ],
  "metadata": {
    "colab": {
      "provenance": [],
      "include_colab_link": true
    },
    "gpuClass": "standard",
    "kernelspec": {
      "display_name": "Python 3",
      "name": "python3"
    },
    "language_info": {
      "name": "python"
    }
  },
  "nbformat": 4,
  "nbformat_minor": 0
}